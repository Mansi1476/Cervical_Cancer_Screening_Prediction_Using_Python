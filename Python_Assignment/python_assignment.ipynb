{
 "cells": [
  {
   "cell_type": "code",
   "execution_count": 2,
   "id": "41c047d8",
   "metadata": {},
   "outputs": [
    {
     "name": "stdout",
     "output_type": "stream",
     "text": [
      "16.0\n",
      "41.0\n",
      "Age                                   0\n",
      "Number of sexual partners             0\n",
      "First sexual intercourse              0\n",
      "Num of pregnancies                    0\n",
      "Smokes                                0\n",
      "Smokes (years)                        0\n",
      "Smokes (packs/year)                   0\n",
      "Hormonal Contraceptives               0\n",
      "Hormonal Contraceptives (years)       0\n",
      "IUD                                   0\n",
      "IUD (years)                           0\n",
      "STDs                                  0\n",
      "STDs (number)                         0\n",
      "STDs:condylomatosis                   0\n",
      "STDs:cervical condylomatosis          0\n",
      "STDs:vaginal condylomatosis           0\n",
      "STDs:vulvo-perineal condylomatosis    0\n",
      "STDs:syphilis                         0\n",
      "STDs:pelvic inflammatory disease      0\n",
      "STDs:genital herpes                   0\n",
      "STDs:molluscum contagiosum            0\n",
      "STDs:AIDS                             0\n",
      "STDs:HIV                              0\n",
      "STDs:Hepatitis B                      0\n",
      "STDs:HPV                              0\n",
      "STDs: Number of diagnosis             0\n",
      "STDs: Time since first diagnosis      0\n",
      "STDs: Time since last diagnosis       0\n",
      "Dx:Cancer                             0\n",
      "Dx:CIN                                0\n",
      "Dx:HPV                                0\n",
      "Dx                                    0\n",
      "Hinselmann                            0\n",
      "Schiller                              0\n",
      "Citology                              0\n",
      "Biopsy                                0\n",
      "dtype: int64\n",
      "16.0\n",
      "41.0\n",
      "Age                                   0\n",
      "Number of sexual partners             0\n",
      "First sexual intercourse              0\n",
      "Num of pregnancies                    0\n",
      "Smokes                                0\n",
      "Smokes (years)                        0\n",
      "Smokes (packs/year)                   0\n",
      "Hormonal Contraceptives               0\n",
      "Hormonal Contraceptives (years)       0\n",
      "IUD                                   0\n",
      "IUD (years)                           0\n",
      "STDs                                  0\n",
      "STDs (number)                         0\n",
      "STDs:condylomatosis                   0\n",
      "STDs:cervical condylomatosis          0\n",
      "STDs:vaginal condylomatosis           0\n",
      "STDs:vulvo-perineal condylomatosis    0\n",
      "STDs:syphilis                         0\n",
      "STDs:pelvic inflammatory disease      0\n",
      "STDs:genital herpes                   0\n",
      "STDs:molluscum contagiosum            0\n",
      "STDs:AIDS                             0\n",
      "STDs:HIV                              0\n",
      "STDs:Hepatitis B                      0\n",
      "STDs:HPV                              0\n",
      "STDs: Number of diagnosis             0\n",
      "STDs: Time since first diagnosis      0\n",
      "STDs: Time since last diagnosis       0\n",
      "Dx:Cancer                             0\n",
      "Dx:CIN                                0\n",
      "Dx:HPV                                0\n",
      "Dx                                    0\n",
      "Hinselmann                            0\n",
      "Schiller                              0\n",
      "Citology                              0\n",
      "Biopsy                                0\n",
      "dtype: int64\n",
      "[[0.26086957 0.07142857 0.27272727 ... 0.         0.         0.        ]\n",
      " [0.         0.07142857 0.22727273 ... 0.         0.         0.        ]\n",
      " [0.82608696 0.35714286 0.22727273 ... 0.         0.         0.        ]\n",
      " ...\n",
      " [0.69565217 0.21428571 0.27272727 ... 0.         0.         0.        ]\n",
      " [0.34782609 0.07142857 0.36363636 ... 0.         0.         0.        ]\n",
      " [0.69565217 0.14285714 0.5        ... 0.         0.         0.        ]]\n",
      "[[0.13043478 0.         0.31818182 ... 0.         0.         0.        ]\n",
      " [0.34782609 0.07142857 0.27272727 ... 0.         0.         0.        ]\n",
      " [0.56521739 0.         0.54545455 ... 0.         0.         0.        ]\n",
      " ...\n",
      " [0.34782609 0.14285714 0.36363636 ... 0.         0.         0.        ]\n",
      " [0.08695652 0.         0.18181818 ... 0.         0.         0.        ]\n",
      " [0.39130435 0.07142857 0.22727273 ... 0.         0.         0.        ]]\n",
      "800    0\n",
      "408    0\n",
      "579    0\n",
      "139    0\n",
      "102    0\n",
      "      ..\n",
      "734    0\n",
      "815    0\n",
      "92     0\n",
      "255    0\n",
      "57     1\n",
      "Name: Hinselmann, Length: 566, dtype: int64\n",
      "813    0\n",
      "616    0\n",
      "724    0\n",
      "409    0\n",
      "439    0\n",
      "      ..\n",
      "768    0\n",
      "793    0\n",
      "244    0\n",
      "850    0\n",
      "180    0\n",
      "Name: Hinselmann, Length: 189, dtype: int64\n",
      "800    0\n",
      "408    0\n",
      "579    0\n",
      "139    0\n",
      "102    0\n",
      "      ..\n",
      "734    0\n",
      "815    0\n",
      "92     0\n",
      "255    0\n",
      "57     1\n",
      "Name: Schiller, Length: 566, dtype: int64\n",
      "813    0\n",
      "616    0\n",
      "724    0\n",
      "409    0\n",
      "439    0\n",
      "      ..\n",
      "768    0\n",
      "793    0\n",
      "244    0\n",
      "850    0\n",
      "180    0\n",
      "Name: Schiller, Length: 189, dtype: int64\n",
      "800    0\n",
      "408    0\n",
      "579    0\n",
      "139    0\n",
      "102    0\n",
      "      ..\n",
      "734    0\n",
      "815    0\n",
      "92     0\n",
      "255    0\n",
      "57     0\n",
      "Name: Citology, Length: 566, dtype: int64\n",
      "813    0\n",
      "616    0\n",
      "724    0\n",
      "409    0\n",
      "439    1\n",
      "      ..\n",
      "768    0\n",
      "793    0\n",
      "244    0\n",
      "850    0\n",
      "180    0\n",
      "Name: Citology, Length: 189, dtype: int64\n",
      "800    0\n",
      "408    0\n",
      "579    0\n",
      "139    0\n",
      "102    0\n",
      "      ..\n",
      "734    0\n",
      "815    0\n",
      "92     0\n",
      "255    0\n",
      "57     0\n",
      "Name: Biopsy, Length: 566, dtype: int64\n",
      "813    0\n",
      "616    0\n",
      "724    0\n",
      "409    0\n",
      "439    0\n",
      "      ..\n",
      "768    0\n",
      "793    0\n",
      "244    0\n",
      "850    0\n",
      "180    0\n",
      "Name: Biopsy, Length: 189, dtype: int64\n",
      "Before sampling class distribution:- 0    542\n",
      "1     24\n",
      "Name: Hinselmann, dtype: int64\n",
      "After sampling class distribution:- 0    542\n",
      "1    542\n",
      "Name: Hinselmann, dtype: int64\n",
      "Before sampling class distribution:- 0    523\n",
      "1     43\n",
      "Name: Schiller, dtype: int64\n",
      "After sampling class distribution:- 0    523\n",
      "1    523\n",
      "Name: Schiller, dtype: int64\n",
      "Before sampling class distribution:- 0    541\n",
      "1     25\n",
      "Name: Citology, dtype: int64\n",
      "After sampling class distribution:- 0    541\n",
      "1    541\n",
      "Name: Citology, dtype: int64\n",
      "Before sampling class distribution:- 0    531\n",
      "1     35\n",
      "Name: Biopsy, dtype: int64\n",
      "After sampling class distribution:- 0    531\n",
      "1    531\n",
      "Name: Biopsy, dtype: int64\n"
     ]
    }
   ],
   "source": [
    "import pandas as pd\n",
    "import numpy as np\n",
    "from imblearn.over_sampling import SMOTE\n",
    "import matplotlib.pyplot as plt\n",
    "import seaborn as sns\n",
    "df = pd.read_csv('Kaggle.csv',na_values=['?'])\n",
    "\n",
    "missing_values = df.loc[df['Number of sexual partners'] == '?']\n",
    "mean_value = df['Number of sexual partners'].mean()\n",
    "mean_value_str = str(mean_value)\n",
    "df['Number of sexual partners'].fillna(mean_value, inplace=True)\n",
    "missing_values = df.loc[df['First sexual intercourse'] == '?']\n",
    "mean_value = df['First sexual intercourse'].mean()\n",
    "\n",
    "mean_value_str = str(mean_value)\n",
    "\n",
    "df['First sexual intercourse'].fillna(mean_value, inplace=True)\n",
    "missing_values = df.loc[df['Num of pregnancies'] == '?']\n",
    "\n",
    "\n",
    "mean_value = df['Num of pregnancies'].mean()\n",
    "\n",
    "mean_value_str = str(mean_value)\n",
    "\n",
    "df['Num of pregnancies'].fillna(mean_value, inplace=True)\n",
    "\n",
    "missing_values = df.loc[df['Smokes'] == '?']\n",
    "\n",
    "\n",
    "\n",
    "mean_value = df['Smokes'].mean()\n",
    "\n",
    "mean_value_str = str(mean_value)\n",
    "\n",
    "df['Smokes'].fillna(mean_value, inplace=True)\n",
    "\n",
    "missing_values = df.loc[df['Smokes'] == '?']\n",
    "\n",
    "df['Smokes'].fillna(0, inplace=True)\n",
    "\n",
    "\n",
    "\n",
    "missing_values = df.loc[df['Smokes (years)'] == '?']\n",
    "\n",
    "df['Smokes (years)'].fillna(0, inplace=True)\n",
    "\n",
    "missing_values = df.loc[df['Smokes (packs/year)'] == '?']\n",
    "\n",
    "df['Smokes (packs/year)'].fillna(0, inplace=True)\n",
    "\n",
    "missing_values = df.loc[df['Hormonal Contraceptives'] == '?']\n",
    "\n",
    "\n",
    "df['Hormonal Contraceptives'].fillna(1, inplace=True)\n",
    "\n",
    "missing_values = df.loc[df['Hormonal Contraceptives (years)'] == '?']\n",
    "\n",
    "\n",
    "mean_value = df['Hormonal Contraceptives (years)'].mean()\n",
    "\n",
    "mean_value_str = str(mean_value)\n",
    "\n",
    "df['Hormonal Contraceptives (years)'].fillna(1, inplace=True)\n",
    "\n",
    "missing_values = df.loc[df['IUD'] == '?']\n",
    "\n",
    "df['IUD'].fillna(0, inplace=True)\n",
    "\n",
    "missing_values = df.loc[df['STDs: Time since first diagnosis'] == '?']\n",
    "\n",
    "\n",
    "df['STDs: Time since first diagnosis'].fillna(0, inplace=True)\n",
    "\n",
    "missing_values = df.loc[df['STDs: Time since last diagnosis'] == '?']\n",
    "\n",
    "\n",
    "df['STDs: Time since last diagnosis'].fillna(0, inplace=True)\n",
    "df.replace('?', np.nan, inplace=True)\n",
    "cols_to_impute = df.columns[10:27]\n",
    "for col in cols_to_impute:\n",
    "    df[col].fillna(0,inplace=True)\n",
    "\n",
    "lowerlimit = df['Age'].quantile(0.05)\n",
    "print(lowerlimit)\n",
    "\n",
    "upperlimit = df['Age'].quantile(0.95)\n",
    "print(upperlimit)\n",
    "df = df[(df['Age']>lowerlimit) & (df['Age']<upperlimit)]\n",
    "print(df.isnull().sum())\n",
    "import pandas as pd\n",
    "import numpy as np\n",
    "from imblearn.over_sampling import SMOTE\n",
    "df = pd.read_csv('Kaggle.csv',na_values=['?'])\n",
    "\n",
    "missing_values = df.loc[df['Number of sexual partners'] == '?']\n",
    "mean_value = df['Number of sexual partners'].mean()\n",
    "mean_value_str = str(mean_value)\n",
    "df['Number of sexual partners'].fillna(mean_value, inplace=True)\n",
    "missing_values = df.loc[df['First sexual intercourse'] == '?']\n",
    "mean_value = df['First sexual intercourse'].mean()\n",
    "\n",
    "mean_value_str = str(mean_value)\n",
    "\n",
    "df['First sexual intercourse'].fillna(mean_value, inplace=True)\n",
    "missing_values = df.loc[df['Num of pregnancies'] == '?']\n",
    "\n",
    "\n",
    "mean_value = df['Num of pregnancies'].mean()\n",
    "\n",
    "mean_value_str = str(mean_value)\n",
    "\n",
    "df['Num of pregnancies'].fillna(mean_value, inplace=True)\n",
    "\n",
    "missing_values = df.loc[df['Smokes'] == '?']\n",
    "\n",
    "\n",
    "\n",
    "mean_value = df['Smokes'].mean()\n",
    "\n",
    "mean_value_str = str(mean_value)\n",
    "\n",
    "df['Smokes'].fillna(mean_value, inplace=True)\n",
    "\n",
    "missing_values = df.loc[df['Smokes'] == '?']\n",
    "\n",
    "df['Smokes'].fillna(0, inplace=True)\n",
    "\n",
    "\n",
    "\n",
    "missing_values = df.loc[df['Smokes (years)'] == '?']\n",
    "\n",
    "df['Smokes (years)'].fillna(0, inplace=True)\n",
    "\n",
    "missing_values = df.loc[df['Smokes (packs/year)'] == '?']\n",
    "\n",
    "df['Smokes (packs/year)'].fillna(0, inplace=True)\n",
    "\n",
    "missing_values = df.loc[df['Hormonal Contraceptives'] == '?']\n",
    "\n",
    "\n",
    "df['Hormonal Contraceptives'].fillna(1, inplace=True)\n",
    "\n",
    "missing_values = df.loc[df['Hormonal Contraceptives (years)'] == '?']\n",
    "\n",
    "\n",
    "mean_value = df['Hormonal Contraceptives (years)'].mean()\n",
    "\n",
    "mean_value_str = str(mean_value)\n",
    "\n",
    "df['Hormonal Contraceptives (years)'].fillna(1, inplace=True)\n",
    "\n",
    "missing_values = df.loc[df['IUD'] == '?']\n",
    "\n",
    "df['IUD'].fillna(0, inplace=True)\n",
    "\n",
    "missing_values = df.loc[df['STDs: Time since first diagnosis'] == '?']\n",
    " \n",
    "\n",
    "df['STDs: Time since first diagnosis'].fillna(0, inplace=True)\n",
    "\n",
    "missing_values = df.loc[df['STDs: Time since last diagnosis'] == '?']\n",
    "\n",
    "\n",
    "df['STDs: Time since last diagnosis'].fillna(0, inplace=True)\n",
    "df.replace('?', np.nan, inplace=True)\n",
    "cols_to_impute = df.columns[10:27]\n",
    "for col in cols_to_impute:\n",
    "    df[col].fillna(0,inplace=True)\n",
    "\n",
    "lowerlimit = df['Age'].quantile(0.05)\n",
    "print(lowerlimit)\n",
    "\n",
    "upperlimit = df['Age'].quantile(0.95)\n",
    "print(upperlimit)\n",
    "\n",
    "df = df[(df['Age']>lowerlimit) & (df['Age']<upperlimit)]\n",
    "print(df.isnull().sum())\n",
    "State = np.random.RandomState(42)\n",
    "x = df.iloc[:,0:32]\n",
    "y1 = df['Hinselmann']\n",
    "y2 = df['Schiller']\n",
    "y3 = df['Citology']\n",
    "y4 = df['Biopsy']\n",
    "\n",
    "\n",
    "from sklearn.preprocessing import MinMaxScaler\n",
    "\n",
    "scaler = MinMaxScaler()\n",
    "x=scaler.fit_transform(x)\n",
    "from sklearn.model_selection import train_test_split\n",
    "x_train, x_test, y_train1, y_test1 = train_test_split(x,y1,test_size = 0.25, random_state=1)\n",
    "x_train, x_test, y_train2, y_test2 = train_test_split(x,y2,test_size = 0.25, random_state=1)\n",
    "x_train, x_test, y_train3, y_test3 = train_test_split(x,y3,test_size = 0.25, random_state=1)\n",
    "x_train, x_test, y_train4, y_test4 = train_test_split(x,y4,test_size = 0.25, random_state=1)\n",
    "\n",
    "\n",
    "\n",
    "print(x_train)\n",
    "print(x_test)\n",
    "print(y_train1)\n",
    "print(y_test1)\n",
    "print(y_train2)\n",
    "print(y_test2)\n",
    "print(y_train3)\n",
    "print(y_test3)\n",
    "print(y_train4)\n",
    "print(y_test4)\n",
    "from sklearn.decomposition import PCA\n",
    "pca=PCA(n_components=2)\n",
    "pca.fit(x)\n",
    "x_pca=pca.transform(x)\n",
    "from imblearn.over_sampling import SMOTE\n",
    "smote = SMOTE(random_state=27)\n",
    "smote_x_train, smote_y_train = smote.fit_resample(x_train, y_train1)\n",
    "print('Before sampling class distribution:-',y_train1.value_counts())\n",
    "print('After sampling class distribution:-',smote_y_train.value_counts())\n",
    "smote_x_train, smote_y_train1 = smote.fit_resample(x_train, y_train2)\n",
    "print('Before sampling class distribution:-',y_train2.value_counts())\n",
    "print('After sampling class distribution:-',smote_y_train1.value_counts())\n",
    "smote_x_train, smote_y_train2 = smote.fit_resample(x_train, y_train3)\n",
    "print('Before sampling class distribution:-',y_train3.value_counts())\n",
    "print('After sampling class distribution:-',smote_y_train2.value_counts())\n",
    "smote_x_train, smote_y_train3 = smote.fit_resample(x_train, y_train4)\n",
    "print('Before sampling class distribution:-',y_train4.value_counts())\n",
    "print('After sampling class distribution:-',smote_y_train3.value_counts())\n",
    "\n",
    "\n",
    "\n",
    "\n",
    "#df\n",
    "\n",
    " "
   ]
  },
  {
   "cell_type": "code",
   "execution_count": 29,
   "id": "9abde365",
   "metadata": {},
   "outputs": [
    {
     "data": {
      "text/plain": [
       "<AxesSubplot:>"
      ]
     },
     "execution_count": 29,
     "metadata": {},
     "output_type": "execute_result"
    },
    {
     "data": {
      "image/png": "[encoded data removed]",
      "text/plain": [
       "<Figure size 432x288 with 1 Axes>"
      ]
     },
     "metadata": {
      "needs_background": "light"
     },
     "output_type": "display_data"
    }
   ],
   "source": [
    "sns.boxplot(x=x_train)"
   ]
  },
  {
   "cell_type": "code",
   "execution_count": 30,
   "id": "2670791c",
   "metadata": {},
   "outputs": [
    {
     "data": {
      "text/plain": [
       "<AxesSubplot:>"
      ]
     },
     "execution_count": 30,
     "metadata": {},
     "output_type": "execute_result"
    },
    {
     "data": {
      "image/png": "[encoded data removed]",
      "text/plain": [
       "<Figure size 432x288 with 2 Axes>"
      ]
     },
     "metadata": {
      "needs_background": "light"
     },
     "output_type": "display_data"
    }
   ],
   "source": [
    "sns.heatmap(x_train, vmin=0, vmax=1)"
   ]
  },
  {
   "cell_type": "code",
   "execution_count": 31,
   "id": "d29d8729",
   "metadata": {},
   "outputs": [
    {
     "name": "stdout",
     "output_type": "stream",
     "text": [
      "              precision    recall  f1-score   support\n",
      "\n",
      "           0       0.95      1.00      0.97       179\n",
      "           1       1.00      0.00      0.00        10\n",
      "\n",
      "    accuracy                           0.95       189\n",
      "   macro avg       0.97      0.50      0.49       189\n",
      "weighted avg       0.95      0.95      0.92       189\n",
      "\n"
     ]
    }
   ],
   "source": [
    "from sklearn.metrics import classification_report\n",
    "from sklearn import svm\n",
    "from sklearn.metrics import precision_score, f1_score\n",
    "\n",
    "\n",
    "from sklearn.metrics import confusion_matrix\n",
    "classifier = svm.SVC(kernel='rbf',gamma='scale',C=2)\n",
    "classifier.fit(x_train,y_train1)\n",
    "y_predict1=classifier.predict(x_test)\n",
    "\n",
    "print(classification_report(y_test1,y_predict1,zero_division=1))\n"
   ]
  },
  {
   "cell_type": "code",
   "execution_count": 32,
   "id": "2f0dc990",
   "metadata": {},
   "outputs": [
    {
     "data": {
      "text/plain": [
       "0.9470899470899471"
      ]
     },
     "execution_count": 32,
     "metadata": {},
     "output_type": "execute_result"
    }
   ],
   "source": [
    "from sklearn.neighbors import KNeighborsClassifier\n",
    "knn = KNeighborsClassifier(n_neighbors=3)\n",
    "knn.fit(x_train,y_train1)\n",
    "knn.score(x_test,y_test1)"
   ]
  },
  {
   "cell_type": "code",
   "execution_count": 33,
   "id": "5f1b9f90",
   "metadata": {},
   "outputs": [
    {
     "data": {
      "image/png": "[encoded data removed]",
      "text/plain": [
       "<Figure size 432x288 with 2 Axes>"
      ]
     },
     "metadata": {
      "needs_background": "light"
     },
     "output_type": "display_data"
    },
    {
     "name": "stdout",
     "output_type": "stream",
     "text": [
      "[[179   0]\n",
      " [ 10   0]]\n"
     ]
    }
   ],
   "source": [
    "\n",
    "cm = confusion_matrix(y_test1, y_predict1)\n",
    "sns.heatmap(cm,cmap='Greens',annot=True)\n",
    "plt.show()\n",
    "print(cm)"
   ]
  },
  {
   "cell_type": "code",
   "execution_count": 34,
   "id": "5e9f86dc",
   "metadata": {},
   "outputs": [
    {
     "data": {
      "text/plain": [
       "0.8888888888888888"
      ]
     },
     "execution_count": 34,
     "metadata": {},
     "output_type": "execute_result"
    }
   ],
   "source": [
    "from sklearn.neighbors import KNeighborsClassifier\n",
    "knn = KNeighborsClassifier(n_neighbors=3)\n",
    "knn.fit(x_train,y_train2)\n",
    "knn.score(x_test,y_test2)"
   ]
  },
  {
   "cell_type": "code",
   "execution_count": 35,
   "id": "34888554",
   "metadata": {},
   "outputs": [
    {
     "name": "stdout",
     "output_type": "stream",
     "text": [
      "              precision    recall  f1-score   support\n",
      "\n",
      "           0       0.89      1.00      0.94       168\n",
      "           1       1.00      0.05      0.09        21\n",
      "\n",
      "    accuracy                           0.89       189\n",
      "   macro avg       0.95      0.52      0.52       189\n",
      "weighted avg       0.91      0.89      0.85       189\n",
      "\n"
     ]
    }
   ],
   "source": [
    "classifier.fit(x_train,y_train2)\n",
    "y_predict2=classifier.predict(x_test)\n",
    "print(classification_report(y_test2,y_predict2,zero_division=1))"
   ]
  },
  {
   "cell_type": "code",
   "execution_count": 36,
   "id": "50183f6f",
   "metadata": {},
   "outputs": [
    {
     "data": {
      "text/plain": [
       "0.9312169312169312"
      ]
     },
     "execution_count": 36,
     "metadata": {},
     "output_type": "execute_result"
    }
   ],
   "source": [
    "from sklearn.neighbors import KNeighborsClassifier\n",
    "knn = KNeighborsClassifier(n_neighbors=3)\n",
    "knn.fit(x_train,y_train3)\n",
    "knn.score(x_test,y_test3)"
   ]
  },
  {
   "cell_type": "code",
   "execution_count": 37,
   "id": "06c42a03",
   "metadata": {},
   "outputs": [
    {
     "data": {
      "image/png": "[encoded data removed]",
      "text/plain": [
       "<Figure size 432x288 with 2 Axes>"
      ]
     },
     "metadata": {
      "needs_background": "light"
     },
     "output_type": "display_data"
    },
    {
     "name": "stdout",
     "output_type": "stream",
     "text": [
      "[[168   0]\n",
      " [ 20   1]]\n"
     ]
    }
   ],
   "source": [
    "import numpy as np\n",
    "import matplotlib.pyplot as plt\n",
    "from sklearn.metrics import confusion_matrix\n",
    "\n",
    "from sklearn.metrics import confusion_matrix\n",
    "\n",
    "cm = confusion_matrix(y_test2, y_predict2)\n",
    "sns.heatmap(cm,cmap='Greens',annot=True)\n",
    "plt.show()\n",
    "print(cm)"
   ]
  },
  {
   "cell_type": "code",
   "execution_count": 38,
   "id": "a339fe4b",
   "metadata": {},
   "outputs": [
    {
     "name": "stdout",
     "output_type": "stream",
     "text": [
      "              precision    recall  f1-score   support\n",
      "\n",
      "           0       0.94      1.00      0.97       177\n",
      "           1       1.00      0.00      0.00        12\n",
      "\n",
      "    accuracy                           0.94       189\n",
      "   macro avg       0.97      0.50      0.48       189\n",
      "weighted avg       0.94      0.94      0.91       189\n",
      "\n"
     ]
    }
   ],
   "source": [
    "classifier.fit(x_train,y_train3)\n",
    "y_predict3=classifier.predict(x_test)\n",
    "print(classification_report(y_test3,y_predict3,zero_division=1))"
   ]
  },
  {
   "cell_type": "code",
   "execution_count": 39,
   "id": "995cffc2",
   "metadata": {},
   "outputs": [
    {
     "data": {
      "text/plain": [
       "0.8994708994708994"
      ]
     },
     "execution_count": 39,
     "metadata": {},
     "output_type": "execute_result"
    }
   ],
   "source": [
    "from sklearn.neighbors import KNeighborsClassifier\n",
    "knn = KNeighborsClassifier(n_neighbors=3)\n",
    "knn.fit(x_train,y_train4)\n",
    "knn.score(x_test,y_test4)"
   ]
  },
  {
   "cell_type": "code",
   "execution_count": 25,
   "id": "1186c590",
   "metadata": {},
   "outputs": [
    {
     "data": {
      "image/png": "[encoded data removed]",
      "text/plain": [
       "<Figure size 432x288 with 2 Axes>"
      ]
     },
     "metadata": {
      "needs_background": "light"
     },
     "output_type": "display_data"
    },
    {
     "name": "stdout",
     "output_type": "stream",
     "text": [
      "[[177   0]\n",
      " [ 12   0]]\n"
     ]
    }
   ],
   "source": [
    "import numpy as np\n",
    "import matplotlib.pyplot as plt\n",
    "from sklearn.metrics import confusion_matrix\n",
    "\n",
    "from sklearn.metrics import confusion_matrix\n",
    "\n",
    "\n",
    "cm = confusion_matrix(y_test3, y_predict3)\n",
    "sns.heatmap(cm,cmap='Greens',annot=True)\n",
    "plt.show()\n",
    "print(cm)"
   ]
  },
  {
   "cell_type": "code",
   "execution_count": 26,
   "id": "770f34ab",
   "metadata": {},
   "outputs": [
    {
     "name": "stdout",
     "output_type": "stream",
     "text": [
      "              precision    recall  f1-score   support\n",
      "\n",
      "           0       0.92      1.00      0.96       174\n",
      "           1       1.00      0.00      0.00        15\n",
      "\n",
      "    accuracy                           0.92       189\n",
      "   macro avg       0.96      0.50      0.48       189\n",
      "weighted avg       0.93      0.92      0.88       189\n",
      "\n"
     ]
    }
   ],
   "source": [
    "classifier=svm.SVC(kernel='linear')\n",
    "classifier.fit(x_train,y_train4)\n",
    "y_predict4=classifier.predict(x_test)\n",
    "print(classification_report(y_test4,y_predict4,zero_division=1))"
   ]
  },
  {
   "cell_type": "code",
   "execution_count": 27,
   "id": "ac51dee4",
   "metadata": {},
   "outputs": [
    {
     "data": {
      "image/png": "[encoded data removed]",
      "text/plain": [
       "<Figure size 432x288 with 2 Axes>"
      ]
     },
     "metadata": {
      "needs_background": "light"
     },
     "output_type": "display_data"
    },
    {
     "name": "stdout",
     "output_type": "stream",
     "text": [
      "[[177   0]\n",
      " [ 12   0]]\n"
     ]
    }
   ],
   "source": [
    "import numpy as np\n",
    "import matplotlib.pyplot as plt\n",
    "from sklearn.metrics import confusion_matrix\n",
    "\n",
    "from sklearn.metrics import confusion_matrix\n",
    "\n",
    "\n",
    "cm = confusion_matrix(y_test3, y_predict4)\n",
    "sns.heatmap(cm,cmap='Greens',annot=True)\n",
    "plt.show()\n",
    "print(cm)"
   ]
  },
  {
   "cell_type": "code",
   "execution_count": null,
   "id": "0b06267b",
   "metadata": {},
   "outputs": [],
   "source": []
  }
 ],
 "metadata": {
  "kernelspec": {
   "display_name": "Python 3 (ipykernel)",
   "language": "python",
   "name": "python3"
  },
  "language_info": {
   "codemirror_mode": {
    "name": "ipython",
    "version": 3
   },
   "file_extension": ".py",
   "mimetype": "text/x-python",
   "name": "python",
   "nbconvert_exporter": "python",
   "pygments_lexer": "ipython3",
   "version": "3.9.12"
  }
 },
 "nbformat": 4,
 "nbformat_minor": 5
}
